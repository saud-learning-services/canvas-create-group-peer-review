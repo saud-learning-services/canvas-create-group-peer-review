{
 "cells": [
  {
   "cell_type": "code",
   "execution_count": 1,
   "id": "7016dd54",
   "metadata": {},
   "outputs": [
    {
     "name": "stdout",
     "output_type": "stream",
     "text": [
      "\u001b[32m\n",
      "Token Valid: Alison Myers (185698)\n",
      "\u001b[0m\n"
     ]
    },
    {
     "data": {
      "text/html": [
       "\n",
       "        <iframe\n",
       "            width=\"100%\"\n",
       "            height=\"650\"\n",
       "            src=\"http://127.0.0.1:8050/\"\n",
       "            frameborder=\"0\"\n",
       "            allowfullscreen\n",
       "            \n",
       "        ></iframe>\n",
       "        "
      ],
      "text/plain": [
       "<IPython.lib.display.IFrame at 0x1643b3eb0>"
      ]
     },
     "metadata": {},
     "output_type": "display_data"
    }
   ],
   "source": [
    "import os\n",
    "import sys\n",
    "module_path = os.path.abspath(os.path.join('src/'))\n",
    "if module_path not in sys.path:\n",
    "    sys.path.append(module_path)\n",
    "import my_app\n",
    "\n",
    "my_app.my_app()\n"
   ]
  },
  {
   "cell_type": "code",
   "execution_count": null,
   "id": "41ee6b10",
   "metadata": {},
   "outputs": [],
   "source": [
    "import requests\n",
    "import json\n",
    "import pandas as pd\n",
    "from dotenv import load_dotenv\n",
    "\n",
    "load_dotenv()\n",
    "KEY = os.getenv('API_TOKEN')\n",
    "COURSE_ID = os.getenv('COURSE_ID')\n",
    "url = \"https://canvas.ubc.ca/api/graphql\"\n"
   ]
  },
  {
   "cell_type": "code",
   "execution_count": 3,
   "id": "1fa33234",
   "metadata": {},
   "outputs": [],
   "source": [
    "from initial_request import get_initial_info\n",
    "from dotenv import load_dotenv\n",
    "\n",
    "load_dotenv()\n",
    "KEY = os.getenv('API_TOKEN')\n",
    "COURSE_ID = os.getenv('COURSE_ID')\n",
    "url = \"https://canvas.ubc.ca/api/graphql\"\n",
    "\n",
    "\n",
    "\n",
    "\n",
    "    "
   ]
  },
  {
   "cell_type": "code",
   "execution_count": 4,
   "id": "b30debb1",
   "metadata": {},
   "outputs": [],
   "source": [
    "course, assignments, group_sets, users = get_initial_info(url, 10456, KEY)\n"
   ]
  },
  {
   "cell_type": "code",
   "execution_count": null,
   "id": "33367510",
   "metadata": {},
   "outputs": [],
   "source": []
  }
 ],
 "metadata": {
  "kernelspec": {
   "display_name": "Python 3 (ipykernel)",
   "language": "python",
   "name": "python3"
  },
  "language_info": {
   "codemirror_mode": {
    "name": "ipython",
    "version": 3
   },
   "file_extension": ".py",
   "mimetype": "text/x-python",
   "name": "python",
   "nbconvert_exporter": "python",
   "pygments_lexer": "ipython3",
   "version": "3.10.4"
  }
 },
 "nbformat": 4,
 "nbformat_minor": 5
}
