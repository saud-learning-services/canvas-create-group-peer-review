{
 "cells": [
  {
   "cell_type": "markdown",
   "id": "870da278",
   "metadata": {},
   "source": [
    "# IMPORTANT!\n",
    "\n",
    "1. You need to have created a .env file -> add your url, token, and course_id\n",
    "2. This process allows you to select an assignment and a group set from your course\n",
    "3. You can then N peer reviews that will be applied within the groups in the selected group set\n",
    "> Note: you must set N to at least 1 less than members in the groups\n",
    "4. ⚠️ Running this will **delete ALL current peer reviews** for the assignment (this cannot be undone)\n",
    "5. The peer review assignment is random, so when you run will be different each time\n",
    "\n",
    "▶️ When you are ready select Kernel -> Restart & Run All.\n",
    "\n",
    "Follow the steps below (select assignment, select groups, and n peer reviews). "
   ]
  },
  {
   "cell_type": "code",
   "execution_count": 1,
   "id": "7016dd54",
   "metadata": {
    "scrolled": false
   },
   "outputs": [
    {
     "name": "stdout",
     "output_type": "stream",
     "text": [
      "\u001b[32m\n",
      "Token Valid: Alison Myers (185698)\n",
      "\u001b[0m\n"
     ]
    },
    {
     "data": {
      "text/html": [
       "\n",
       "        <iframe\n",
       "            width=\"100%\"\n",
       "            height=\"650\"\n",
       "            src=\"http://127.0.0.1:8050/\"\n",
       "            frameborder=\"0\"\n",
       "            allowfullscreen\n",
       "            \n",
       "        ></iframe>\n",
       "        "
      ],
      "text/plain": [
       "<IPython.lib.display.IFrame at 0x165ef2b30>"
      ]
     },
     "metadata": {},
     "output_type": "display_data"
    },
    {
     "name": "stdout",
     "output_type": "stream",
     "text": [
      "Accessed submissions for Assignment with no due date (PR)\n",
      "Deleted all peer reviews for Assignment with no due date (PR)\n",
      "Accessing submissions for group: TEST2 1\n",
      "4: dict_values([[93991, 93994], [93994, 93991]])\n",
      "93991 will be reviewed by: [93994]\n",
      "93994 will be reviewed by: [93991]\n",
      "Accessing submissions for group: TEST2 2\n",
      "2: dict_values([[93995, 93992], [93992, 93995]])\n",
      "93995 will be reviewed by: [93992]\n",
      "93992 will be reviewed by: [93995]\n",
      "Accessing submissions for group: TEST2 3\n",
      "4: dict_values([[93997, 93999], [93999, 93997]])\n",
      "93997 will be reviewed by: [93999]\n",
      "93999 will be reviewed by: [93997]\n"
     ]
    }
   ],
   "source": [
    "import os\n",
    "import sys\n",
    "module_path = os.path.abspath(os.path.join('src/'))\n",
    "if module_path not in sys.path:\n",
    "    sys.path.append(module_path)\n",
    "import my_app\n",
    "import button_tests\n",
    "\n",
    "my_app.my_app()\n"
   ]
  },
  {
   "cell_type": "code",
   "execution_count": null,
   "id": "f05ccdd8",
   "metadata": {},
   "outputs": [],
   "source": []
  }
 ],
 "metadata": {
  "kernelspec": {
   "display_name": "Python 3 (ipykernel)",
   "language": "python",
   "name": "python3"
  },
  "language_info": {
   "codemirror_mode": {
    "name": "ipython",
    "version": 3
   },
   "file_extension": ".py",
   "mimetype": "text/x-python",
   "name": "python",
   "nbconvert_exporter": "python",
   "pygments_lexer": "ipython3",
   "version": "3.10.4"
  }
 },
 "nbformat": 4,
 "nbformat_minor": 5
}
