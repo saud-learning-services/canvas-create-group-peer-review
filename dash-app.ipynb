{
 "cells": [
  {
   "cell_type": "code",
   "execution_count": 1,
   "id": "7016dd54",
   "metadata": {},
   "outputs": [
    {
     "name": "stdout",
     "output_type": "stream",
     "text": [
      "\u001b[32m\n",
      "Token Valid: Alison Myers (185698)\n",
      "\u001b[0m\n"
     ]
    },
    {
     "data": {
      "text/html": [
       "\n",
       "        <iframe\n",
       "            width=\"100%\"\n",
       "            height=\"650\"\n",
       "            src=\"http://127.0.0.1:8050/\"\n",
       "            frameborder=\"0\"\n",
       "            allowfullscreen\n",
       "            \n",
       "        ></iframe>\n",
       "        "
      ],
      "text/plain": [
       "<IPython.lib.display.IFrame at 0x1643b3eb0>"
      ]
     },
     "metadata": {},
     "output_type": "display_data"
    }
   ],
   "source": [
    "import os\n",
    "import sys\n",
    "module_path = os.path.abspath(os.path.join('src/'))\n",
    "if module_path not in sys.path:\n",
    "    sys.path.append(module_path)\n",
    "import my_app\n",
    "\n",
    "my_app.my_app()\n"
   ]
  },
  {
   "cell_type": "code",
   "execution_count": null,
   "id": "f3fc4f90",
   "metadata": {},
   "outputs": [],
   "source": [
    "import requests\n",
    "import json\n",
    "import pandas as pd\n",
    "from dotenv import load_dotenv\n",
    "\n",
    "load_dotenv()\n",
    "KEY = os.getenv('API_TOKEN')\n",
    "COURSE_ID = os.getenv('COURSE_ID')\n",
    "url = \"https://canvas.ubc.ca/api/graphql\"\n"
   ]
  },
  {
   "cell_type": "code",
   "execution_count": 3,
   "id": "7279a9b1",
   "metadata": {},
   "outputs": [],
   "source": [
    "from initial_request import get_initial_info\n",
    "from dotenv import load_dotenv\n",
    "\n",
    "load_dotenv()\n",
    "KEY = os.getenv('API_TOKEN')\n",
    "COURSE_ID = os.getenv('COURSE_ID')\n",
    "url = \"https://canvas.ubc.ca/api/graphql\"\n",
    "\n",
    "\n",
    "\n",
    "\n",
    "    "
   ]
  },
  {
   "cell_type": "code",
   "execution_count": 4,
   "id": "4d7b7a28",
   "metadata": {},
   "outputs": [],
   "source": [
    "course, assignments, group_sets, users = get_initial_info(url, 10456, KEY)\n"
   ]
  },
  {
   "cell_type": "code",
   "execution_count": 5,
   "id": "ac648df5",
   "metadata": {},
   "outputs": [
    {
     "data": {
      "text/plain": [
       "[{'id': 'VXNlci05Mzk5Nw==',\n",
       "  'sisId': None,\n",
       "  'sortableName': 'LtsStudentFive, LtsStudentFive',\n",
       "  '_id': '93997',\n",
       "  'name': 'LtsStudentFive LtsStudentFive',\n",
       "  'enrollments': [{'type': 'StudentEnrollment'}]},\n",
       " {'id': 'VXNlci05Mzk5NQ==',\n",
       "  'sisId': None,\n",
       "  'sortableName': 'LtsStudentFour, LtsStudentFour',\n",
       "  '_id': '93995',\n",
       "  'name': 'LtsStudentFour LtsStudentFour',\n",
       "  'enrollments': [{'type': 'StudentEnrollment'}]},\n",
       " {'id': 'VXNlci05Mzk5OQ==',\n",
       "  'sisId': None,\n",
       "  'sortableName': 'LtsStudentSeven, LtsStudentSeven',\n",
       "  '_id': '93999',\n",
       "  'name': 'LtsStudentSeven LtsStudentSeven',\n",
       "  'enrollments': [{'type': 'StudentEnrollment'}]},\n",
       " {'id': 'VXNlci05Mzk5NA==',\n",
       "  'sisId': None,\n",
       "  'sortableName': 'LtsStudentThree, LtsStudentThree',\n",
       "  '_id': '93994',\n",
       "  'name': 'LtsStudentThree LtsStudentThree',\n",
       "  'enrollments': [{'type': 'StudentEnrollment'}]},\n",
       " {'id': 'VXNlci0xODU2OTg=',\n",
       "  'sisId': '15628126',\n",
       "  'sortableName': 'Myers, Alison',\n",
       "  '_id': '185698',\n",
       "  'name': 'Alison Myers',\n",
       "  'enrollments': [{'type': 'TeacherEnrollment'}]},\n",
       " {'id': 'VXNlci0yMjQ0',\n",
       "  'sisId': '48118146',\n",
       "  'sortableName': 'Prodanovic, Marko',\n",
       "  '_id': '2244',\n",
       "  'name': 'Marko Prodanovic',\n",
       "  'enrollments': [{'type': 'TeacherEnrollment'}]},\n",
       " {'id': 'VXNlci04MDMyMzY=',\n",
       "  'sisId': None,\n",
       "  'sortableName': 'Student, Test',\n",
       "  '_id': '803236',\n",
       "  'name': 'Test Student',\n",
       "  'enrollments': [{'type': 'StudentViewEnrollment'}]},\n",
       " {'id': 'VXNlci05Mzk5MQ==',\n",
       "  'sisId': None,\n",
       "  'sortableName': 'StudentOne, LTS',\n",
       "  '_id': '93991',\n",
       "  'name': 'LTS StudentOne',\n",
       "  'enrollments': [{'type': 'StudentEnrollment'}]},\n",
       " {'id': 'VXNlci05Mzk5Mg==',\n",
       "  'sisId': None,\n",
       "  'sortableName': 'StudentTwo, LTS',\n",
       "  '_id': '93992',\n",
       "  'name': 'LTS StudentTwo',\n",
       "  'enrollments': [{'type': 'StudentEnrollment'}]}]"
      ]
     },
     "execution_count": 5,
     "metadata": {},
     "output_type": "execute_result"
    }
   ],
   "source": [
    "users\n"
   ]
  },
  {
   "cell_type": "code",
   "execution_count": 6,
   "id": "17248c57",
   "metadata": {},
   "outputs": [
    {
     "data": {
      "text/plain": [
       "[{'name': 'Inter Peer Review Group',\n",
       "  '_id': '49422',\n",
       "  'groupsConnection': {'nodes': [{'_id': '427331',\n",
       "     'name': 'Inter Peer Review Group 1',\n",
       "     'membersCount': 1,\n",
       "     'membersConnection': {'nodes': [{'user': {'_id': '93991',\n",
       "         'name': 'LTS StudentOne',\n",
       "         'sisId': None}}]}},\n",
       "    {'_id': '427332',\n",
       "     'name': 'Inter Peer Review Group 2',\n",
       "     'membersCount': 4,\n",
       "     'membersConnection': {'nodes': [{'user': {'_id': '93992',\n",
       "         'name': 'LTS StudentTwo',\n",
       "         'sisId': None}},\n",
       "       {'user': {'_id': '93994',\n",
       "         'name': 'LtsStudentThree LtsStudentThree',\n",
       "         'sisId': None}},\n",
       "       {'user': {'_id': '93997',\n",
       "         'name': 'LtsStudentFive LtsStudentFive',\n",
       "         'sisId': None}},\n",
       "       {'user': {'_id': '93999',\n",
       "         'name': 'LtsStudentSeven LtsStudentSeven',\n",
       "         'sisId': None}}]}}]}},\n",
       " {'name': 'Group Peer Review Groups (2)',\n",
       "  '_id': '49492',\n",
       "  'groupsConnection': {'nodes': [{'_id': '427773',\n",
       "     'name': 'Group Peer Review Groups (2) 1',\n",
       "     'membersCount': 1,\n",
       "     'membersConnection': {'nodes': [{'user': {'_id': '93994',\n",
       "         'name': 'LtsStudentThree LtsStudentThree',\n",
       "         'sisId': None}}]}},\n",
       "    {'_id': '427774',\n",
       "     'name': 'Group Peer Review Groups (2) 2',\n",
       "     'membersCount': 3,\n",
       "     'membersConnection': {'nodes': [{'user': {'_id': '93999',\n",
       "         'name': 'LtsStudentSeven LtsStudentSeven',\n",
       "         'sisId': None}},\n",
       "       {'user': {'_id': '93992', 'name': 'LTS StudentTwo', 'sisId': None}},\n",
       "       {'user': {'_id': '93991',\n",
       "         'name': 'LTS StudentOne',\n",
       "         'sisId': None}}]}}]}},\n",
       " {'name': 'TEST',\n",
       "  '_id': '49698',\n",
       "  'groupsConnection': {'nodes': [{'_id': '428996',\n",
       "     'name': 'TEST 1',\n",
       "     'membersCount': 3,\n",
       "     'membersConnection': {'nodes': [{'user': {'_id': '93999',\n",
       "         'name': 'LtsStudentSeven LtsStudentSeven',\n",
       "         'sisId': None}},\n",
       "       {'user': {'_id': '93994',\n",
       "         'name': 'LtsStudentThree LtsStudentThree',\n",
       "         'sisId': None}},\n",
       "       {'user': {'_id': '93997',\n",
       "         'name': 'LtsStudentFive LtsStudentFive',\n",
       "         'sisId': None}}]}},\n",
       "    {'_id': '428997',\n",
       "     'name': 'TEST 2',\n",
       "     'membersCount': 3,\n",
       "     'membersConnection': {'nodes': [{'user': {'_id': '93995',\n",
       "         'name': 'LtsStudentFour LtsStudentFour',\n",
       "         'sisId': None}},\n",
       "       {'user': {'_id': '93992', 'name': 'LTS StudentTwo', 'sisId': None}},\n",
       "       {'user': {'_id': '93991',\n",
       "         'name': 'LTS StudentOne',\n",
       "         'sisId': None}}]}}]}},\n",
       " {'name': 'TEST2',\n",
       "  '_id': '49699',\n",
       "  'groupsConnection': {'nodes': [{'_id': '428998',\n",
       "     'name': 'TEST2 1',\n",
       "     'membersCount': 2,\n",
       "     'membersConnection': {'nodes': [{'user': {'_id': '93994',\n",
       "         'name': 'LtsStudentThree LtsStudentThree',\n",
       "         'sisId': None}},\n",
       "       {'user': {'_id': '93991', 'name': 'LTS StudentOne', 'sisId': None}}]}},\n",
       "    {'_id': '428999',\n",
       "     'name': 'TEST2 2',\n",
       "     'membersCount': 2,\n",
       "     'membersConnection': {'nodes': [{'user': {'_id': '93992',\n",
       "         'name': 'LTS StudentTwo',\n",
       "         'sisId': None}},\n",
       "       {'user': {'_id': '93995',\n",
       "         'name': 'LtsStudentFour LtsStudentFour',\n",
       "         'sisId': None}}]}},\n",
       "    {'_id': '429000',\n",
       "     'name': 'TEST2 3',\n",
       "     'membersCount': 2,\n",
       "     'membersConnection': {'nodes': [{'user': {'_id': '93999',\n",
       "         'name': 'LtsStudentSeven LtsStudentSeven',\n",
       "         'sisId': None}},\n",
       "       {'user': {'_id': '93997',\n",
       "         'name': 'LtsStudentFive LtsStudentFive',\n",
       "         'sisId': None}}]}}]}},\n",
       " {'name': 'Brand new group set',\n",
       "  '_id': '49780',\n",
       "  'groupsConnection': {'nodes': [{'_id': '429330',\n",
       "     'name': 'Brand new group set 1',\n",
       "     'membersCount': 3,\n",
       "     'membersConnection': {'nodes': [{'user': {'_id': '93994',\n",
       "         'name': 'LtsStudentThree LtsStudentThree',\n",
       "         'sisId': None}},\n",
       "       {'user': {'_id': '93997',\n",
       "         'name': 'LtsStudentFive LtsStudentFive',\n",
       "         'sisId': None}},\n",
       "       {'user': {'_id': '93991', 'name': 'LTS StudentOne', 'sisId': None}}]}},\n",
       "    {'_id': '429331',\n",
       "     'name': 'Brand new group set 2',\n",
       "     'membersCount': 2,\n",
       "     'membersConnection': {'nodes': [{'user': {'_id': '93999',\n",
       "         'name': 'LtsStudentSeven LtsStudentSeven',\n",
       "         'sisId': None}},\n",
       "       {'user': {'_id': '93995',\n",
       "         'name': 'LtsStudentFour LtsStudentFour',\n",
       "         'sisId': None}}]}},\n",
       "    {'_id': '429332',\n",
       "     'name': 'Brand new group set 3',\n",
       "     'membersCount': 1,\n",
       "     'membersConnection': {'nodes': [{'user': {'_id': '93992',\n",
       "         'name': 'LTS StudentTwo',\n",
       "         'sisId': None}}]}}]}}]"
      ]
     },
     "execution_count": 6,
     "metadata": {},
     "output_type": "execute_result"
    }
   ],
   "source": [
    "group_sets"
   ]
  },
  {
   "cell_type": "code",
   "execution_count": null,
   "id": "a93a48c7",
   "metadata": {},
   "outputs": [],
   "source": []
  }
 ],
 "metadata": {
  "kernelspec": {
   "display_name": "Python 3 (ipykernel)",
   "language": "python",
   "name": "python3"
  },
  "language_info": {
   "codemirror_mode": {
    "name": "ipython",
    "version": 3
   },
   "file_extension": ".py",
   "mimetype": "text/x-python",
   "name": "python",
   "nbconvert_exporter": "python",
   "pygments_lexer": "ipython3",
   "version": "3.10.4"
  }
 },
 "nbformat": 4,
 "nbformat_minor": 5
}
