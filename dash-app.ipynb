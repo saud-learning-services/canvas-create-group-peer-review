{
 "cells": [
  {
   "cell_type": "markdown",
   "id": "870da278",
   "metadata": {},
   "source": [
    "# IMPORTANT!\n",
    "\n",
    "1. You need to have created a .env file -> add your url, token, and course_id\n",
    "2. This process allows you to select an assignment and a group set from your course\n",
    "3. You can then N peer reviews that will be applied within the groups in the selected group set\n",
    "> Note: you must set N to at least 1 less than members in the groups\n",
    "4. ⚠️ Running this will **delete ALL current peer reviews** for the assignment (this cannot be undone)\n",
    "5. The peer review assignment is random, so when you run will be different each time\n",
    "\n",
    "▶️ When you are ready select Kernel -> Restart & Run All.\n",
    "\n",
    "Follow the steps below (select assignment, select groups, and n peer reviews). "
   ]
  },
  {
   "cell_type": "code",
   "execution_count": null,
   "id": "7016dd54",
   "metadata": {
    "scrolled": false
   },
   "outputs": [],
   "source": [
    "import os\n",
    "import sys\n",
    "module_path = os.path.abspath(os.path.join('src/'))\n",
    "if module_path not in sys.path:\n",
    "    sys.path.append(module_path)\n",
    "import my_app\n",
    "\n",
    "my_app.my_app()\n"
   ]
  },
  {
   "cell_type": "code",
   "execution_count": null,
   "id": "f05ccdd8",
   "metadata": {},
   "outputs": [],
   "source": []
  }
 ],
 "metadata": {
  "kernelspec": {
   "display_name": "Python 3 (ipykernel)",
   "language": "python",
   "name": "python3"
  },
  "language_info": {
   "codemirror_mode": {
    "name": "ipython",
    "version": 3
   },
   "file_extension": ".py",
   "mimetype": "text/x-python",
   "name": "python",
   "nbconvert_exporter": "python",
   "pygments_lexer": "ipython3",
   "version": "3.10.4"
  }
 },
 "nbformat": 4,
 "nbformat_minor": 5
}
