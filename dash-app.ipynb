{
 "cells": [
  {
   "cell_type": "code",
   "execution_count": 1,
   "id": "7016dd54",
   "metadata": {
    "scrolled": false
   },
   "outputs": [
    {
     "name": "stdout",
     "output_type": "stream",
     "text": [
      "\u001b[32m\n",
      "Token Valid: Alison Myers (185698)\n",
      "\u001b[0m\n"
     ]
    },
    {
     "data": {
      "text/html": [
       "\n",
       "        <iframe\n",
       "            width=\"100%\"\n",
       "            height=\"650\"\n",
       "            src=\"http://127.0.0.1:8050/\"\n",
       "            frameborder=\"0\"\n",
       "            allowfullscreen\n",
       "            \n",
       "        ></iframe>\n",
       "        "
      ],
      "text/plain": [
       "<IPython.lib.display.IFrame at 0x161846e60>"
      ]
     },
     "metadata": {},
     "output_type": "display_data"
    }
   ],
   "source": [
    "import os\n",
    "import sys\n",
    "module_path = os.path.abspath(os.path.join('src/'))\n",
    "if module_path not in sys.path:\n",
    "    sys.path.append(module_path)\n",
    "import my_app\n",
    "\n",
    "my_app.my_app()\n"
   ]
  },
  {
   "cell_type": "code",
   "execution_count": 3,
   "id": "bb5d7913",
   "metadata": {},
   "outputs": [
    {
     "name": "stdout",
     "output_type": "stream",
     "text": [
      "\u001b[32m\n",
      "Token Valid: Alison Myers (185698)\n",
      "\u001b[0m\n"
     ]
    }
   ],
   "source": [
    "from initial_request import get_initial_info\n",
    "import os\n",
    "from dotenv import load_dotenv\n",
    "import helpers\n",
    "from create_n_iterations import create_n_iterations\n",
    "from assign_peer_review_by_group import assign_peer_review_by_group\n",
    "\n",
    "load_dotenv() \n",
    "\n",
    "URL = os.getenv('API_INSTANCE')\n",
    "KEY = os.getenv('API_TOKEN')\n",
    "COURSE_ID = os.getenv('COURSE_ID')\n",
    "GRAPH_URL = f\"{URL}/api/graphql\"\n",
    "\n",
    "canvas = helpers.create_instance(URL, KEY)\n",
    "\n",
    "course, assignments, group_sets, users = get_initial_info(GRAPH_URL, COURSE_ID, KEY)"
   ]
  },
  {
   "cell_type": "code",
   "execution_count": 4,
   "id": "6b0581d3",
   "metadata": {},
   "outputs": [],
   "source": [
    "# for an assignment, determine if has peer reviews *uses returned val from dropdown (assignment_id)\n",
    "# if there are peer reviews -> give option to delete (with warning - cannot undo)\n",
    "\n",
    "ASSIGNMENT_ID = 1236302\n",
    "# now assign peer reviews\n",
    "_course = canvas.get_course(COURSE_ID)\n",
    "_assignment = _course.get_assignment(ASSIGNMENT_ID)\n",
    "\n"
   ]
  },
  {
   "cell_type": "code",
   "execution_count": 5,
   "id": "f1369562",
   "metadata": {},
   "outputs": [],
   "source": [
    "\n",
    "matched_group_category = helpers._return_single_dict_match(group_sets, \"_id\", '49736') \n",
    "simple_groups_list = helpers._simplify_group_dicts(matched_group_category)\n",
    "#submission_status = get_submission_status_per_user(_assignment)\n"
   ]
  },
  {
   "cell_type": "code",
   "execution_count": 6,
   "id": "94a4d91a",
   "metadata": {},
   "outputs": [
    {
     "name": "stdout",
     "output_type": "stream",
     "text": [
      "Accessed submissions for Individual Group Assignment ... \n",
      "Deleted all peer reviews for Individual Group Assignment ... \n",
      "Accessing submissions for group: Single Group 1\n",
      "787: dict_values([[93992, 93991, 93995, 93999, 93997, 93994], [93999, 93995, 93991, 93997, 93994, 93992], [93997, 93999, 93994, 93991, 93992, 93995], [93994, 93992, 93999, 93995, 93991, 93997]])\n",
      "93992 will be reviewed by: [93999, 93997, 93994]\n",
      "93991 will be reviewed by: [93995, 93999, 93992]\n",
      "93995 will be reviewed by: [93991, 93994, 93999]\n",
      "93999 will be reviewed by: [93997, 93991, 93995]\n",
      "93997 will be reviewed by: [93994, 93992, 93991]\n",
      "93994 will be reviewed by: [93992, 93995, 93997]\n"
     ]
    }
   ],
   "source": [
    "assign_peer_review_by_group(_assignment, simple_groups_list, 3)  "
   ]
  },
  {
   "cell_type": "code",
   "execution_count": null,
   "id": "ee9880d8",
   "metadata": {},
   "outputs": [],
   "source": [
    "simple_groups_list\n",
    "\n",
    "def get_user_list_from_groups(simple_group_list):\n",
    "    groups = []\n",
    "    \n",
    "    for i in simple_group_list:\n",
    "        users = [j.get('canvas_id') for j in i.get('members')]\n",
    "        groups.append(users)\n",
    "        \n",
    "    return(groups)\n",
    "\n",
    "get_user_list_from_groups(simple_groups_list)"
   ]
  },
  {
   "cell_type": "code",
   "execution_count": null,
   "id": "61dddac8",
   "metadata": {},
   "outputs": [],
   "source": []
  },
  {
   "cell_type": "code",
   "execution_count": null,
   "id": "4e53af9e",
   "metadata": {},
   "outputs": [],
   "source": [
    "from helpers import _return_single_dict_match, _simplify_group_dicts, _matches_dict_key_val_list, _matches_dict_key_val\n",
    "\n",
    "\n",
    "def _delete_all_assignment_peer_reviews(assignment):\n",
    "    submissions = assignment.get_submissions()\n",
    "    \n",
    "    for i in submissions:\n",
    "\n",
    "        submission_pr = i.get_submission_peer_reviews()\n",
    "\n",
    "        for j in submission_pr:\n",
    "\n",
    "            delete_reviewer = j.__dict__.get(\"assessor_id\")\n",
    "            i.delete_submission_peer_review(delete_reviewer)\n",
    "            \n",
    "    print(f\"Deleted all peer reviews for {assignment.name}\")\n",
    "\n",
    "def _assign_user_submission_reviews(submission, reviewers):\n",
    "    # remove any current reviews for submission\n",
    "    # assign new reviews\n",
    "    #submission = assignment.get_submission(reviewee)\n",
    "    \n",
    "    submission = submission.get(\"submission\")\n",
    "    \n",
    "    for i in reviewers:\n",
    "        submission.create_submission_peer_review(i)\n",
    "        \n",
    "def _get_submission_status_per_user(assignment):\n",
    "    submissions = assignment.get_submissions()\n",
    "    \n",
    "    submission_details = []\n",
    "    \n",
    "    for i in submissions:\n",
    "        new_dict = {\"user_id\": i.user_id,\n",
    "        \"submission_id\": i.id,\n",
    "        \"submission_missing\": i.missing,\n",
    "        \"submission\": i}\n",
    "        \n",
    "        submission_details.append(new_dict)\n",
    "        \n",
    "    return(submission_details)\n",
    "\n",
    "\n",
    "    \n",
    "\n"
   ]
  },
  {
   "cell_type": "code",
   "execution_count": null,
   "id": "e0850f1b",
   "metadata": {},
   "outputs": [],
   "source": [
    "#assign_peer_review_by_group\n",
    "\n",
    "def assign_peer_review_by_group(assignment, simple_groups_list, n_reviews):\n",
    "    \n",
    "    # get all submissions\n",
    "    try:\n",
    "        submission_details = _get_submission_status_per_user(assignment)\n",
    "        print(f\"Accessed submissions for {assignment.name}\")\n",
    "    except Exception as err:\n",
    "        print(f\"Error getting submission details: {err}\")\n",
    "\n",
    "    try:\n",
    "        _delete_all_assignment_peer_reviews(assignment)\n",
    "    except Exception as err:\n",
    "        print(f\"Error in deleting current reviews: {err}\")\n",
    "\n",
    "    \n",
    "    for i in simple_groups_list: \n",
    "        # uses canvas submission so need user_id to be int\n",
    "        \n",
    "        try:\n",
    "            print(f\"Accessing submissions for group: {i.get('group_name')}\")\n",
    "            group_users = [int(j.get(\"canvas_id\")) for j in i.get(\"members\")]\n",
    "            submission_by_group = [j for j in submission_details if _matches_dict_key_val_list(j, \"user_id\", group_users)]\n",
    "        \n",
    "        except Exception as err:\n",
    "            print(f\"Error in group {i.get('group_name')}: {err}\")\n",
    "            \n",
    "        #complete_submissions = [k for k in submission_by_group if _matches_dict_key_val(k, \"submission_missing\": False)]\n",
    "        # what if NO submission(?) I think this will assign regardless\n",
    "        list_dict, user_review_dict = create_n_iterations(group_users, n_reviews)\n",
    "\n",
    "        for k in user_review_dict:\n",
    "            reviewee = list(k.keys())[0]\n",
    "            reviewers = list(k.values())[0]\n",
    "\n",
    "            print(f\"{reviewee} will be reviewed by: {reviewers}\")\n",
    "\n",
    "            submission = _return_single_dict_match(submission_by_group, \"user_id\", reviewee)\n",
    "            try:\n",
    "                _assign_user_submission_reviews(submission, reviewers)\n",
    "            except Exception as err:\n",
    "                print(f\"Error in assigning reviews: {err}\")\n",
    "\n",
    "  "
   ]
  },
  {
   "cell_type": "code",
   "execution_count": null,
   "id": "7b947863",
   "metadata": {},
   "outputs": [],
   "source": [
    "\n"
   ]
  },
  {
   "cell_type": "code",
   "execution_count": null,
   "id": "f3d19148",
   "metadata": {},
   "outputs": [],
   "source": []
  },
  {
   "cell_type": "code",
   "execution_count": null,
   "id": "7be9e348",
   "metadata": {},
   "outputs": [],
   "source": [
    "#print(list(zip(*[lista, listb, listc])))\n",
    "for i in zip(*test.values()):\n",
    "    j = list(i) \n",
    "    first = j[0]\n",
    "    rest = j[1:]\n",
    "    \n",
    "    print(f'{first}: {rest}')"
   ]
  },
  {
   "cell_type": "code",
   "execution_count": null,
   "id": "8897cb13",
   "metadata": {},
   "outputs": [],
   "source": [
    "def assign_peer_reviews(users, n_reviews):\n",
    "    \n",
    "    list_dict, user_review_dict = create_n_iterations(users, n_reviews)\n",
    "    \n",
    "    for i in user_review_dict:\n",
    "        reviewee = list(i.keys())[0]\n",
    "        reviewers = list(i.values())[0]\n",
    "        \n",
    "        print(f\"{reviewee} is reviewed by: {reviewers}\")\n",
    "        \n",
    "        _assign_user_submission_reviews(submission, reviewee, reviewers)\n"
   ]
  }
 ],
 "metadata": {
  "kernelspec": {
   "display_name": "Python 3 (ipykernel)",
   "language": "python",
   "name": "python3"
  },
  "language_info": {
   "codemirror_mode": {
    "name": "ipython",
    "version": 3
   },
   "file_extension": ".py",
   "mimetype": "text/x-python",
   "name": "python",
   "nbconvert_exporter": "python",
   "pygments_lexer": "ipython3",
   "version": "3.10.4"
  }
 },
 "nbformat": 4,
 "nbformat_minor": 5
}
