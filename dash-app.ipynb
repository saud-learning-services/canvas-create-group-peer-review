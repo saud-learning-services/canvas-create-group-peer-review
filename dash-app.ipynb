{
 "cells": [
  {
   "cell_type": "code",
   "execution_count": 1,
   "id": "4782aa75",
   "metadata": {},
   "outputs": [
    {
     "name": "stdout",
     "output_type": "stream",
     "text": [
      "\u001b[32m\n",
      "Token Valid: Alison Myers (185698)\n",
      "\u001b[0m\n"
     ]
    },
    {
     "data": {
      "text/html": [
       "\n",
       "        <iframe\n",
       "            width=\"100%\"\n",
       "            height=\"650\"\n",
       "            src=\"http://127.0.0.1:8050/\"\n",
       "            frameborder=\"0\"\n",
       "            allowfullscreen\n",
       "            \n",
       "        ></iframe>\n",
       "        "
      ],
      "text/plain": [
       "<IPython.lib.display.IFrame at 0x1637310c0>"
      ]
     },
     "metadata": {},
     "output_type": "display_data"
    },
    {
     "name": "stdout",
     "output_type": "stream",
     "text": [
      "Inter Peer Review Group 1 427331\n",
      "93991 - 427331 (1680279)\n",
      "Inter Peer Review Group 2 427332\n",
      "93992 - 427332 (1680175)\n",
      "93994 - 427332 (1680178)\n",
      "93997 - 427332 (1680376)\n",
      "93999 - 427332 (1680457)\n",
      "TEST 1 428996\n",
      "93999 - 428996 (1685944)\n",
      "93994 - 428996 (1685945)\n",
      "93997 - 428996 (1685946)\n",
      "TEST 2 428997\n",
      "93995 - 428997 (1685941)\n",
      "93992 - 428997 (1685942)\n",
      "93991 - 428997 (1685943)\n"
     ]
    }
   ],
   "source": [
    "import os\n",
    "import sys\n",
    "module_path = os.path.abspath(os.path.join('src/'))\n",
    "if module_path not in sys.path:\n",
    "    sys.path.append(module_path)\n",
    "import my_app\n",
    "\n",
    "my_app.my_app()"
   ]
  },
  {
   "cell_type": "code",
   "execution_count": null,
   "id": "2317a86e",
   "metadata": {},
   "outputs": [],
   "source": []
  }
 ],
 "metadata": {
  "kernelspec": {
   "display_name": "Python 3 (ipykernel)",
   "language": "python",
   "name": "python3"
  },
  "language_info": {
   "codemirror_mode": {
    "name": "ipython",
    "version": 3
   },
   "file_extension": ".py",
   "mimetype": "text/x-python",
   "name": "python",
   "nbconvert_exporter": "python",
   "pygments_lexer": "ipython3",
   "version": "3.10.4"
  }
 },
 "nbformat": 4,
 "nbformat_minor": 5
}
