{
 "cells": [
  {
   "cell_type": "code",
   "execution_count": 1,
   "id": "7016dd54",
   "metadata": {},
   "outputs": [
    {
     "name": "stdout",
     "output_type": "stream",
     "text": [
      "\u001b[32m\n",
      "Token Valid: Alison Myers (185698)\n",
      "\u001b[0m\n"
     ]
    },
    {
     "data": {
      "text/html": [
       "\n",
       "        <iframe\n",
       "            width=\"100%\"\n",
       "            height=\"650\"\n",
       "            src=\"http://127.0.0.1:8050/\"\n",
       "            frameborder=\"0\"\n",
       "            allowfullscreen\n",
       "            \n",
       "        ></iframe>\n",
       "        "
      ],
      "text/plain": [
       "<IPython.lib.display.IFrame at 0x16657a3e0>"
      ]
     },
     "metadata": {},
     "output_type": "display_data"
    }
   ],
   "source": [
    "import os\n",
    "import sys\n",
    "module_path = os.path.abspath(os.path.join('src/'))\n",
    "if module_path not in sys.path:\n",
    "    sys.path.append(module_path)\n",
    "import my_app\n",
    "\n",
    "my_app.my_app()\n"
   ]
  },
  {
   "cell_type": "code",
   "execution_count": null,
   "id": "d43b6f99",
   "metadata": {},
   "outputs": [],
   "source": [
    "import requests\n",
    "import json\n",
    "import pandas as pd\n",
    "from dotenv import load_dotenv"
   ]
  },
  {
   "cell_type": "code",
   "execution_count": null,
   "id": "f9dc90a9",
   "metadata": {},
   "outputs": [],
   "source": [
    "query = \"\"\"query {\n",
    "  __typename\n",
    "  course(id: \"10456\") {\n",
    "    id\n",
    "    courseCode\n",
    "    assignmentsConnection {\n",
    "      nodes {\n",
    "        id\n",
    "        _id\n",
    "        name\n",
    "      }\n",
    "    }\n",
    "    groupSetsConnection {\n",
    "      nodes {\n",
    "        name\n",
    "        _id\n",
    "        groupsConnection {\n",
    "          nodes {\n",
    "            _id\n",
    "            name\n",
    "            membersCount\n",
    "            membersConnection {\n",
    "              nodes {\n",
    "                user {\n",
    "                  _id\n",
    "                  name\n",
    "                }\n",
    "              }\n",
    "            }\n",
    "          }\n",
    "        }\n",
    "      }\n",
    "    }\n",
    "  }\n",
    "}\n",
    "\"\"\"\n",
    "load_dotenv()\n",
    "KEY = os.getenv('API_TOKEN')\n",
    "url = \"https://canvas.ubc.ca/api/graphql\"\n",
    "r = requests.post(url, json={'query': query}, headers={'Authorization': f'Bearer {KEY}'})\n",
    "print(r.status_code)"
   ]
  },
  {
   "cell_type": "code",
   "execution_count": null,
   "id": "539e6b8f",
   "metadata": {},
   "outputs": [],
   "source": [
    "r.json()"
   ]
  },
  {
   "cell_type": "code",
   "execution_count": null,
   "id": "482fef81",
   "metadata": {},
   "outputs": [],
   "source": [
    "access_url = \"https://canvas.ubc.ca/api/v1/inst_access_tokens\"\n",
    "r = requests.post(access_url, headers={'Authorization': f'Bearer {KEY}'})\n",
    "r.json()"
   ]
  },
  {
   "cell_type": "code",
   "execution_count": null,
   "id": "188f9479",
   "metadata": {},
   "outputs": [],
   "source": [
    "r = requests.get(\"https://canvas.ubc.ca/api/v1/courses/10456\", headers={'Authorization': f'Bearer {KEY}'})\n",
    "r.json()"
   ]
  },
  {
   "cell_type": "code",
   "execution_count": null,
   "id": "cf1e7abf",
   "metadata": {},
   "outputs": [],
   "source": []
  }
 ],
 "metadata": {
  "kernelspec": {
   "display_name": "Python 3 (ipykernel)",
   "language": "python",
   "name": "python3"
  },
  "language_info": {
   "codemirror_mode": {
    "name": "ipython",
    "version": 3
   },
   "file_extension": ".py",
   "mimetype": "text/x-python",
   "name": "python",
   "nbconvert_exporter": "python",
   "pygments_lexer": "ipython3",
   "version": "3.10.4"
  }
 },
 "nbformat": 4,
 "nbformat_minor": 5
}
