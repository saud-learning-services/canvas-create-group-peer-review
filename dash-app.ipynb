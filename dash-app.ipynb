{
 "cells": [
  {
   "cell_type": "markdown",
   "id": "870da278",
   "metadata": {},
   "source": [
    "# IMPORTANT!\n",
    "\n",
    "1. You need to have created a .env file -> add your url, token, and course_id\n",
    "2. This process allows you to select an assignment and a group set from your course\n",
    "3. You can then N peer reviews that will be applied within the groups in the selected group set\n",
    "> Note: you must set N to at least 1 less than members in the groups\n",
    "4. ⚠️ Running this will **delete ALL current peer reviews** for the assignment (this cannot be undone)\n",
    "5. The peer review assignment is random, so when you run will be different each time\n",
    "\n",
    "▶️ When you are ready select Kernel -> Restart & Run All.\n",
    "\n",
    "Follow the steps below (select assignment, select groups, and n peer reviews). "
   ]
  },
  {
   "cell_type": "code",
   "execution_count": 1,
   "id": "7016dd54",
   "metadata": {
    "scrolled": false
   },
   "outputs": [
    {
     "name": "stdout",
     "output_type": "stream",
     "text": [
      "\u001b[32m\n",
      "Token Valid: Alison Myers (185698)\n",
      "\u001b[0m\n"
     ]
    },
    {
     "data": {
      "text/html": [
       "\n",
       "        <iframe\n",
       "            width=\"100%\"\n",
       "            height=\"650\"\n",
       "            src=\"http://127.0.0.1:8050/\"\n",
       "            frameborder=\"0\"\n",
       "            allowfullscreen\n",
       "            \n",
       "        ></iframe>\n",
       "        "
      ],
      "text/plain": [
       "<IPython.lib.display.IFrame at 0x7fe602fe8eb0>"
      ]
     },
     "metadata": {},
     "output_type": "display_data"
    },
    {
     "name": "stdout",
     "output_type": "stream",
     "text": [
      "[{'group_name': 'Group Assignment 1', 'members': []}, {'group_name': 'Group Assignment 2', 'members': []}, {'group_name': 'Group Assignment 3', 'members': []}, {'group_name': 'Group Assignment 4', 'members': []}]\n",
      "[{'group_name': 'Passion Project Group 1', 'members': [{'name': 'LtsStudentThree LtsStudentThree', 'canvas_id': '93994', 'sis_id': None}, {'name': 'LtsStudentFive LtsStudentFive', 'canvas_id': '93997', 'sis_id': None}, {'name': 'LtsStudentFour LtsStudentFour', 'canvas_id': '93995', 'sis_id': None}, {'name': 'LTS StudentOne', 'canvas_id': '93991', 'sis_id': None}, {'name': 'LTS StudentTwo', 'canvas_id': '93992', 'sis_id': None}]}, {'group_name': 'Passion Project Group 2', 'members': [{'name': 'LtsStudentSix LtsStudentSix', 'canvas_id': '93998', 'sis_id': None}, {'name': 'Mariah Ho', 'canvas_id': '876', 'sis_id': '34168154'}, {'name': 'LtsStudentEight LtsStudentEight', 'canvas_id': '94000', 'sis_id': None}, {'name': 'LtsStudentSeven LtsStudentSeven', 'canvas_id': '93999', 'sis_id': None}, {'name': 'Angela Lu', 'canvas_id': '44963', 'sis_id': '40285165'}]}, {'group_name': 'Passion Project Group 3', 'members': []}, {'group_name': 'Passion Project Group 4', 'members': []}, {'group_name': 'Passion Project Group 5', 'members': []}, {'group_name': 'Passion Project Group 6', 'members': []}, {'group_name': 'Passion Project Group 7', 'members': []}, {'group_name': 'Passion Project Group 8', 'members': []}, {'group_name': 'Passion Project Group 9', 'members': []}, {'group_name': 'Passion Project Group 10', 'members': []}, {'group_name': 'Passion Project Group 11', 'members': []}]\n"
     ]
    }
   ],
   "source": [
    "import os\n",
    "import sys\n",
    "module_path = os.path.abspath(os.path.join('src/'))\n",
    "if module_path not in sys.path:\n",
    "    sys.path.append(module_path)\n",
    "import my_app\n",
    "\n",
    "my_app.my_app()\n"
   ]
  },
  {
   "cell_type": "code",
   "execution_count": null,
   "id": "715a48e5",
   "metadata": {},
   "outputs": [],
   "source": []
  }
 ],
 "metadata": {
  "kernelspec": {
   "display_name": "Python 3 (ipykernel)",
   "language": "python",
   "name": "python3"
  },
  "language_info": {
   "codemirror_mode": {
    "name": "ipython",
    "version": 3
   },
   "file_extension": ".py",
   "mimetype": "text/x-python",
   "name": "python",
   "nbconvert_exporter": "python",
   "pygments_lexer": "ipython3",
   "version": "3.9.7"
  }
 },
 "nbformat": 4,
 "nbformat_minor": 5
}
