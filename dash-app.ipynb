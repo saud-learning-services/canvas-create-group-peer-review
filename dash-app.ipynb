{
 "cells": [
  {
   "cell_type": "code",
   "execution_count": 10,
   "id": "6dd581f9",
   "metadata": {},
   "outputs": [],
   "source": [
    "import os\n",
    "import sys\n",
    "module_path = os.path.abspath(os.path.join('src/'))\n",
    "if module_path not in sys.path:\n",
    "    sys.path.append(module_path)\n",
    "import random\n",
    "import pandas as pd\n",
    "from canvasapi import Canvas\n",
    "import canvas_create_peer_reviews\n",
    "import helpers\n",
    "\n",
    "# DASH\n",
    "from jupyter_dash import JupyterDash\n",
    "from dash import dcc, html, Input, Output\n",
    "from dash.dependencies import Input, Output"
   ]
  },
  {
   "cell_type": "code",
   "execution_count": 11,
   "id": "253c1d29",
   "metadata": {},
   "outputs": [
    {
     "name": "stdout",
     "output_type": "stream",
     "text": [
      "\u001b[32m\n",
      "Token Valid: Alison Myers (185698)\n",
      "\u001b[0m\n"
     ]
    }
   ],
   "source": [
    "\n",
    "KEY = canvas_create_peer_reviews.API_KEY\n",
    "URL = canvas_create_peer_reviews.API_URL\n",
    "COURSEID = 10456\n",
    "canvas = helpers.create_instance(URL, KEY)\n",
    "course = canvas.get_course(COURSEID)\n",
    "assignments = course.get_assignments()"
   ]
  },
  {
   "cell_type": "code",
   "execution_count": 19,
   "id": "5fb00d01",
   "metadata": {},
   "outputs": [],
   "source": [
    "assignments_list = []\n",
    "\n",
    "for i in assignments:\n",
    "    assignments_list.append({'label': i.name, 'value':i.id})\n",
    "    \n",
    "assignments_list\n",
    "first_value = assignments_list[0].get('value')\n",
    "\n",
    "\n"
   ]
  },
  {
   "cell_type": "code",
   "execution_count": 25,
   "id": "e2b6cf8b",
   "metadata": {},
   "outputs": [
    {
     "data": {
      "text/html": [
       "\n",
       "        <iframe\n",
       "            width=\"100%\"\n",
       "            height=\"650\"\n",
       "            src=\"http://127.0.0.1:8050/\"\n",
       "            frameborder=\"0\"\n",
       "            allowfullscreen\n",
       "            \n",
       "        ></iframe>\n",
       "        "
      ],
      "text/plain": [
       "<IPython.lib.display.IFrame at 0x16680c0d0>"
      ]
     },
     "metadata": {},
     "output_type": "display_data"
    }
   ],
   "source": [
    "def drop_down_div(list_of_dicts, dropdown_id, div_id):\n",
    "    first_value = list_of_dicts[0].get('value')\n",
    "    \n",
    "    html_div = html.Div([\n",
    "        dcc.Dropdown(options=list_of_dicts, value=first_value, id=dropdown_id),\n",
    "        html.Div(id=div_id)\n",
    "    ])\n",
    "    \n",
    "    return(html_div)\n",
    "\n",
    "app = JupyterDash(__name__)\n",
    "\n",
    "app.layout = drop_down_div(assignments_list, 'assignments-dropdown', 'dd-output-container')\n",
    "\n",
    "@app.callback(\n",
    "    Output('dd-output-container', 'children'),\n",
    "    Input('assignments-dropdown', 'value')\n",
    ")\n",
    "\n",
    "def update_output(value):\n",
    "    return f'You have selected {value}'\n",
    "\n",
    "app.run_server(mode='inline')"
   ]
  },
  {
   "cell_type": "code",
   "execution_count": 20,
   "id": "e81654cd",
   "metadata": {},
   "outputs": [],
   "source": [
    "app = JupyterDash(__name__)\n",
    "\n",
    "app.layout = html.Div([\n",
    "    dcc.Dropdown(options=assignments_list, value=first_value, id='assignments-dropdown'),\n",
    "    html.Div(id='dd-output-container')\n",
    "])\n",
    "\n",
    "\n",
    "@app.callback(\n",
    "    Output('dd-output-container', 'children'),\n",
    "    Input('assignments-dropdown', 'value')\n",
    ")\n",
    "\n",
    "def update_output(value):\n",
    "    return f'You have selected {value}'\n"
   ]
  },
  {
   "cell_type": "code",
   "execution_count": 21,
   "id": "5a7d731b",
   "metadata": {},
   "outputs": [
    {
     "data": {
      "text/html": [
       "\n",
       "        <iframe\n",
       "            width=\"100%\"\n",
       "            height=\"650\"\n",
       "            src=\"http://127.0.0.1:8050/\"\n",
       "            frameborder=\"0\"\n",
       "            allowfullscreen\n",
       "            \n",
       "        ></iframe>\n",
       "        "
      ],
      "text/plain": [
       "<IPython.lib.display.IFrame at 0x166692320>"
      ]
     },
     "metadata": {},
     "output_type": "display_data"
    }
   ],
   "source": [
    "app.run_server(mode='inline')"
   ]
  },
  {
   "cell_type": "code",
   "execution_count": null,
   "id": "352da056",
   "metadata": {},
   "outputs": [],
   "source": []
  }
 ],
 "metadata": {
  "kernelspec": {
   "display_name": "Python 3 (ipykernel)",
   "language": "python",
   "name": "python3"
  },
  "language_info": {
   "codemirror_mode": {
    "name": "ipython",
    "version": 3
   },
   "file_extension": ".py",
   "mimetype": "text/x-python",
   "name": "python",
   "nbconvert_exporter": "python",
   "pygments_lexer": "ipython3",
   "version": "3.10.4"
  }
 },
 "nbformat": 4,
 "nbformat_minor": 5
}
