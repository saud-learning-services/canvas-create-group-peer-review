{
 "cells": [
  {
   "cell_type": "code",
   "execution_count": 42,
   "id": "4a4c3fc6",
   "metadata": {},
   "outputs": [],
   "source": [
    "import os\n",
    "import sys\n",
    "module_path = os.path.abspath(os.path.join('src/'))\n",
    "if module_path not in sys.path:\n",
    "    sys.path.append(module_path)\n",
    "import random\n",
    "import pandas as pd\n",
    "from canvasapi import Canvas\n",
    "import canvas_create_peer_reviews\n",
    "import helpers\n",
    "from helpers import _matches_dict_key_val\n",
    "\n",
    "# DASH\n",
    "from jupyter_dash import JupyterDash\n",
    "from dash import dcc, html, Input, Output\n",
    "from dash.dependencies import Input, Output"
   ]
  },
  {
   "cell_type": "code",
   "execution_count": 9,
   "id": "ac29d94b",
   "metadata": {},
   "outputs": [
    {
     "name": "stdout",
     "output_type": "stream",
     "text": [
      "\u001b[32m\n",
      "Token Valid: Alison Myers (185698)\n",
      "\u001b[0m\n"
     ]
    }
   ],
   "source": [
    "\n",
    "KEY = canvas_create_peer_reviews.API_KEY\n",
    "URL = canvas_create_peer_reviews.API_URL\n",
    "COURSEID = 10456\n",
    "canvas = helpers.create_instance(URL, KEY)\n",
    "course = canvas.get_course(COURSEID)\n",
    "assignments = course.get_assignments()\n",
    "group_categories = course.get_group_categories()"
   ]
  },
  {
   "cell_type": "code",
   "execution_count": 10,
   "id": "d459f7c1",
   "metadata": {},
   "outputs": [],
   "source": [
    "assignments_list = [{'label': i.name, 'value': i.id} for i in assignments]\n",
    "group_categories_list = [{'label': i.name, 'value': i.id} for i in group_categories]"
   ]
  },
  {
   "cell_type": "code",
   "execution_count": 45,
   "id": "81eb8b04",
   "metadata": {},
   "outputs": [
    {
     "data": {
      "text/html": [
       "\n",
       "        <iframe\n",
       "            width=\"100%\"\n",
       "            height=\"650\"\n",
       "            src=\"http://127.0.0.1:8050/\"\n",
       "            frameborder=\"0\"\n",
       "            allowfullscreen\n",
       "            \n",
       "        ></iframe>\n",
       "        "
      ],
      "text/plain": [
       "<IPython.lib.display.IFrame at 0x167ee0340>"
      ]
     },
     "metadata": {},
     "output_type": "display_data"
    }
   ],
   "source": [
    "def drop_down_div(list_of_dicts, dropdown_id, div_id):\n",
    "    first_value = list_of_dicts[0].get('value')\n",
    "    \n",
    "    html_div = html.Div([\n",
    "        dcc.Dropdown(options=list_of_dicts, value=first_value, id=dropdown_id),\n",
    "        html.Div(id=div_id)\n",
    "    ])\n",
    "    \n",
    "    return(html_div)\n",
    "\n",
    "app = JupyterDash(__name__)\n",
    "\n",
    "app.layout = html.Div(children=[\n",
    "    html.H1(children=f\"{course.name}\"),\n",
    "    drop_down_div(assignments_list, 'assignments-dropdown', 'dd-output-container'),\n",
    "    html.Br(),\n",
    "    drop_down_div(group_categories_list, 'group-categories-dropdown', 'dd-output-container2'),\n",
    "    html.Br(),\n",
    "    html.Div(id='all-output')\n",
    "])\n",
    "\n",
    "@app.callback(\n",
    "    Output('all-output', 'children'),\n",
    "    Input('assignments-dropdown', 'value'),\n",
    "    Input('group-categories-dropdown', 'value')\n",
    ")\n",
    "\n",
    "def update_output(assignmentval, groupcategoriesval):\n",
    "    \n",
    "    assignment_name = [d for d in assignments_list if _matches_dict_key_val(d, \"value\", assignmentval)][0]\n",
    "    groupcategories_name = [d for d in group_categories_list if _matches_dict_key_val(d, \"value\", groupcategoriesval)][0]\n",
    "            \n",
    "    \n",
    "    return html.Div(children=[html.H2(f'You have selected:'),\n",
    "                             html.Div(f'Assignment: {assignmentval}, {assignment_name}'), html.Br(),\n",
    "                             html.Div(f'Course Group: {groupcategoriesval}, {groupcategories_name}')])\n",
    "\n",
    "app.run_server(mode='inline')"
   ]
  },
  {
   "cell_type": "code",
   "execution_count": null,
   "id": "24d2d73a",
   "metadata": {},
   "outputs": [],
   "source": []
  }
 ],
 "metadata": {
  "kernelspec": {
   "display_name": "Python 3 (ipykernel)",
   "language": "python",
   "name": "python3"
  },
  "language_info": {
   "codemirror_mode": {
    "name": "ipython",
    "version": 3
   },
   "file_extension": ".py",
   "mimetype": "text/x-python",
   "name": "python",
   "nbconvert_exporter": "python",
   "pygments_lexer": "ipython3",
   "version": "3.10.4"
  }
 },
 "nbformat": 4,
 "nbformat_minor": 5
}
