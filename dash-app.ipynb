{
 "cells": [
  {
   "cell_type": "code",
   "execution_count": 1,
   "id": "7016dd54",
   "metadata": {
    "scrolled": false
   },
   "outputs": [
    {
     "name": "stdout",
     "output_type": "stream",
     "text": [
      "\u001b[32m\n",
      "Token Valid: Alison Myers (185698)\n",
      "\u001b[0m\n"
     ]
    },
    {
     "data": {
      "text/html": [
       "\n",
       "        <iframe\n",
       "            width=\"100%\"\n",
       "            height=\"650\"\n",
       "            src=\"http://127.0.0.1:8050/\"\n",
       "            frameborder=\"0\"\n",
       "            allowfullscreen\n",
       "            \n",
       "        ></iframe>\n",
       "        "
      ],
      "text/plain": [
       "<IPython.lib.display.IFrame at 0x162236e60>"
      ]
     },
     "metadata": {},
     "output_type": "display_data"
    }
   ],
   "source": [
    "import os\n",
    "import sys\n",
    "module_path = os.path.abspath(os.path.join('src/'))\n",
    "if module_path not in sys.path:\n",
    "    sys.path.append(module_path)\n",
    "import my_app\n",
    "\n",
    "my_app.my_app()\n"
   ]
  },
  {
   "cell_type": "code",
   "execution_count": null,
   "id": "5c6674a1",
   "metadata": {},
   "outputs": [],
   "source": [
    "from initial_request import get_initial_info\n",
    "from my_app import URL, KEY, COURSE_ID, GRAPH_URL\n",
    "from helpers import _return_single_dict_match\n",
    "import json\n",
    "course, assignments, group_sets, users = get_initial_info(GRAPH_URL, COURSE_ID, KEY)"
   ]
  },
  {
   "cell_type": "code",
   "execution_count": null,
   "id": "f83b789e",
   "metadata": {},
   "outputs": [],
   "source": [
    "\n",
    "matched_group_category = _return_single_dict_match(group_sets, \"_id\", \"49422\") "
   ]
  },
  {
   "cell_type": "code",
   "execution_count": null,
   "id": "307ab1ce",
   "metadata": {},
   "outputs": [],
   "source": [
    "def _simplify_group_dicts(matched_group_category):\n",
    "    some_list = []\n",
    "    for i in matched_group_category.get(\"groupsConnection\").get(\"nodes\"):\n",
    "        group_name = i.get('name')\n",
    "        members = i.get('membersConnection').get('nodes')\n",
    "        members_list = []\n",
    "\n",
    "        for j in members:\n",
    "            member = j.get(\"user\")\n",
    "            member_dict = {\n",
    "                \"name\": member.get(\"name\"),\n",
    "                \"canvas_id\": member.get(\"_id\"),\n",
    "                \"sis_id\": member.get(\"sisId\")\n",
    "            }\n",
    "            members_list.append(member_dict)\n",
    "\n",
    "        new_dict = {\n",
    "            \"group_name\": group_name,\n",
    "            \"members\": members_list\n",
    "        }\n",
    "\n",
    "        some_list.append(new_dict)\n",
    "    \n",
    "    return(some_list)\n",
    "\n",
    "some_list = _simplify_group_dicts(matched_group_category)\n",
    "    \n"
   ]
  },
  {
   "cell_type": "code",
   "execution_count": null,
   "id": "262b7fa8",
   "metadata": {},
   "outputs": [],
   "source": [
    "some_list"
   ]
  },
  {
   "cell_type": "code",
   "execution_count": null,
   "id": "4d74abb3",
   "metadata": {},
   "outputs": [],
   "source": [
    "def _simplify_group_dicts(matched_group_category):\n",
    "    some_list = []\n",
    "    \n",
    "    for i in matched_group_category.get(\"groupsConnection\").get(\"nodes\"):\n",
    "        group_name = i.get('name')\n",
    "        members = i.get('membersConnection').get('nodes')\n",
    "        members_list = []\n",
    "        \n",
    "        \n",
    "\n",
    "        for j in members:\n",
    "            member = j.get(\"user\")\n",
    "            member_dict = {\n",
    "                \"name\": member.get(\"name\"),\n",
    "                \"canvas_id\": member.get(\"_id\"),\n",
    "                \"sis_id\": member.get(\"sisId\")\n",
    "            }\n",
    "            members_list.append(member_dict)\n",
    "\n",
    "        new_dict = {\n",
    "            \"group_name\": group_name,\n",
    "            \"members\": members_list\n",
    "        }\n",
    "\n",
    "        some_list.append(new_dict)\n",
    "    \n",
    "    return(some_list)\n",
    "\n",
    "some_list = _simplify_group_dicts(matched_group_category)\n",
    "    "
   ]
  },
  {
   "cell_type": "code",
   "execution_count": null,
   "id": "ad5afa16",
   "metadata": {},
   "outputs": [],
   "source": [
    "from dash import dcc, html, Input, Output\n",
    "\n",
    "def _create_custom_html(some_list):\n",
    "\n",
    "    all_divs = []\n",
    "\n",
    "    for i in some_list:\n",
    "\n",
    "        new_div = html.Div(children= [\n",
    "            html.H3(i.get('group_name')),\n",
    "            [html.P(j) for j in i.get('members')]\n",
    "        ])\n",
    "\n",
    "        all_divs.append(new_div)\n",
    "\n",
    "    return(all_divs)\n",
    "    "
   ]
  },
  {
   "cell_type": "code",
   "execution_count": null,
   "id": "85799069",
   "metadata": {},
   "outputs": [],
   "source": [
    "test = _create_custom_html(some_list)"
   ]
  },
  {
   "cell_type": "code",
   "execution_count": null,
   "id": "4cca1db2",
   "metadata": {},
   "outputs": [],
   "source": [
    "HTML(test)"
   ]
  },
  {
   "cell_type": "code",
   "execution_count": null,
   "id": "bfd02e59",
   "metadata": {},
   "outputs": [],
   "source": [
    "def _simplify_group_dicts(matched_group_category):\n",
    "    some_list = []\n",
    "    \n",
    "    for i in matched_group_category.get(\"groupsConnection\").get(\"nodes\"):\n",
    "        group_name = i.get('name')\n",
    "        members = i.get('membersConnection').get('nodes')\n",
    "        \n",
    "        members_list = []\n",
    "\n",
    "        for j in members:\n",
    "            member = j.get(\"user\")\n",
    "            member_dict = {\n",
    "                \"name\": member.get(\"name\"),\n",
    "                \"canvas_id\": member.get(\"_id\"),\n",
    "                \"sis_id\": member.get(\"sisId\")\n",
    "            }\n",
    "            members_list.append(member_dict)\n",
    "\n",
    "        new_dict = {\n",
    "            \"group_name\": group_name,\n",
    "            \"members\": members_list\n",
    "        }\n",
    "\n",
    "        some_list.append(new_dict)\n",
    "        \n",
    "        \n",
    "\n",
    "    return(some_list)\n",
    "\n",
    "some_list = _simplify_group_dicts(matched_group_category)\n",
    "\n",
    "def _create_custom_html(some_list):\n",
    "\n",
    "    all_divs = []\n",
    "\n",
    "    for i in some_list:\n",
    "\n",
    "        new_div = html.Div(children= [\n",
    "            html.H4(i.get('group_name')),\n",
    "            html.Div(children = [\n",
    "                html.P(f'{j.get(\"name\")} ({j.get(\"canvas_id\")})') for j in i.get('members')\n",
    "            ])\n",
    "        ])\n",
    "\n",
    "        all_divs.append(new_div)\n",
    "\n",
    "    return(all_divs)\n"
   ]
  }
 ],
 "metadata": {
  "kernelspec": {
   "display_name": "Python 3 (ipykernel)",
   "language": "python",
   "name": "python3"
  },
  "language_info": {
   "codemirror_mode": {
    "name": "ipython",
    "version": 3
   },
   "file_extension": ".py",
   "mimetype": "text/x-python",
   "name": "python",
   "nbconvert_exporter": "python",
   "pygments_lexer": "ipython3",
   "version": "3.10.4"
  }
 },
 "nbformat": 4,
 "nbformat_minor": 5
}
